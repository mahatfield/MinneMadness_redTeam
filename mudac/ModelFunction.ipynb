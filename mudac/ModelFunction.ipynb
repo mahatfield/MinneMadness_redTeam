{
 "cells": [
  {
   "cell_type": "code",
   "execution_count": 3,
   "id": "supreme-voluntary",
   "metadata": {},
   "outputs": [],
   "source": [
    "import pandas as pd\n",
    "import matplotlib.pyplot as plt\n",
    "import numpy as np\n",
    "import seaborn as sns\n",
    "from sklearn.linear_model import LogisticRegression\n",
    "from sklearn.ensemble import RandomForestClassifier\n",
    "def createModel():\n",
    "    tourney = pd.read_csv('Final_Data.csv')\n",
    "    prediction_data = pd.read_csv('Input_Data.csv')\n",
    "    tourney.drop(['Unnamed: 0'], axis = 1, inplace = True)\n",
    "    tourney['point_diff'] = (tourney['Tm.'] - tourney['Opp.'])\n",
    "    tourney['ppg'] = tourney['Tm.'] / tourney['G']\n",
    "    tourney['rpg'] = tourney['TRB'] / tourney['G']\n",
    "    tourney['apg'] = tourney['AST'] / tourney['G']\n",
    "    tourney['spg'] = tourney['STL'] / tourney['G']\n",
    "    tourney['bpg'] = tourney['BLK'] / tourney['G']\n",
    "    tourney['tpg'] = tourney['TOV'] / tourney['G']\n",
    "    tourney['ftapg'] = tourney['FTA'] / tourney['G']\n",
    "    tourney['papg'] = tourney['Opp.'] / tourney['G']\n",
    "    tourney['opp_point_diff'] = tourney['Opp_Tm'] - tourney['Opp_Opp']\n",
    "    tourney['opp_ppg'] = tourney['Opp_Tm'] / tourney['Opp_G']\n",
    "    tourney['opp_rpg'] = tourney['Opp_TRB'] / tourney['Opp_G']\n",
    "    tourney['opp_ftapg'] = tourney['Opp_FTA'] / tourney['G']\n",
    "    tourney['opp_apg'] = tourney['Opp_AST'] / tourney['Opp_G']\n",
    "    tourney['opp_spg'] = tourney['Opp_STL'] / tourney['Opp_G']\n",
    "    tourney['opp_bpg'] = tourney['Opp_BLK'] / tourney['Opp_G']\n",
    "    tourney['opp_tpg'] = tourney['Opp_TOV'] / tourney['Opp_G']\n",
    "    tourney['Round'] = tourney['Round'].apply(lambda x: str(x) + \"_round\")\n",
    "    tourney['Seed'] = tourney['Seed'].apply(lambda x: str(x) + \"_seed\")\n",
    "    tourney['Opp_Seed'] = tourney['Opp_Seed'].apply(lambda x: str(x) + \"_seedopp\")\n",
    "    #tourney['Seed'] = tourney['Seed'].astype('category')\n",
    "    #tourney['Opp_Seed'] = tourney['Opp_Seed'].astype('category')\n",
    "    prediction_data.drop(['Unnamed: 0'], axis = 1, inplace = True)\n",
    "    prediction_data['point_diff'] = prediction_data['Tm.'] - prediction_data['Opp.']\n",
    "    prediction_data['ppg'] = prediction_data['Tm.'] / prediction_data['G']\n",
    "    prediction_data['rpg'] = prediction_data['TRB'] / prediction_data['G']\n",
    "    prediction_data['apg'] = prediction_data['AST'] / prediction_data['G']\n",
    "    prediction_data['spg'] = prediction_data['STL'] / prediction_data['G']\n",
    "    prediction_data['bpg'] = prediction_data['BLK'] / prediction_data['G']\n",
    "    prediction_data['tpg'] = prediction_data['TOV'] / prediction_data['G']\n",
    "    prediction_data['papg'] = prediction_data['Opp.'] / prediction_data['G']\n",
    "    prediction_data['opp_point_diff'] = prediction_data['Opp_Tm'] - prediction_data['Opp_Opp']\n",
    "    prediction_data['opp_ppg'] = prediction_data['Opp_Tm'] / prediction_data['Opp_G']\n",
    "    prediction_data['opp_rpg'] = prediction_data['Opp_TRB'] / prediction_data['Opp_G']\n",
    "    prediction_data['opp_apg'] = prediction_data['Opp_AST'] / prediction_data['Opp_G']\n",
    "    prediction_data['opp_spg'] = prediction_data['Opp_STL'] / prediction_data['Opp_G']\n",
    "    prediction_data['opp_bpg'] = prediction_data['Opp_BLK'] / prediction_data['Opp_G']\n",
    "    prediction_data['opp_tpg'] = prediction_data['Opp_TOV'] / prediction_data['Opp_G']\n",
    "    prediction_data['Round'] = prediction_data['Round'].apply(lambda x: str(x) + \"_round\")\n",
    "    prediction_data['Seed'] = prediction_data['Seed'].apply(lambda x: str(x) + \"_seed\")\n",
    "    prediction_data['Opp_Seed'] = prediction_data['Opp_Seed'].apply(lambda x: str(x) + \"_seedopp\")\n",
    "    lr = LogisticRegression(max_iter = 2000)\n",
    "    y = tourney['Win']\n",
    "    X = tourney[['W-L%','SRS','SOS','point_diff','FG%','Opp_WLRat','Opp_SRS','Opp_SOS','opp_point_diff','Opp_FGperc']]\n",
    "    X = pd.concat([X,pd.get_dummies(tourney['Seed']),pd.get_dummies(tourney['Opp_Seed'])], axis = 1)\n",
    "    X = X.drop(['16_seed','16_seedopp'], axis = 1)\n",
    "    prediction_data = pd.concat([prediction_data,pd.get_dummies(prediction_data['Seed']),pd.get_dummies(prediction_data['Opp_Seed'])], axis = 1)\n",
    "    prediction_data = prediction_data.drop(['16_seed','16_seedopp'], axis = 1)\n",
    "    lr.fit(X,y)\n",
    "    rf = RandomForestClassifier(n_estimators = 1000)\n",
    "    rf.fit(X,y)\n",
    "    return [lr,rf]\n"
   ]
  },
  {
   "cell_type": "code",
   "execution_count": 5,
   "id": "ancient-hypothesis",
   "metadata": {},
   "outputs": [
    {
     "name": "stderr",
     "output_type": "stream",
     "text": [
      "<ipython-input-3-25378e5dedd2>:61: SettingWithCopyWarning: \n",
      "A value is trying to be set on a copy of a slice from a DataFrame.\n",
      "Try using .loc[row_indexer,col_indexer] = value instead\n",
      "\n",
      "See the caveats in the documentation: https://pandas.pydata.org/pandas-docs/stable/user_guide/indexing.html#returning-a-view-versus-a-copy\n",
      "  X['Seed'] = X['Seed'].apply(lambda x: int(x.split(\"_\")[0]))\n",
      "<ipython-input-3-25378e5dedd2>:62: SettingWithCopyWarning: \n",
      "A value is trying to be set on a copy of a slice from a DataFrame.\n",
      "Try using .loc[row_indexer,col_indexer] = value instead\n",
      "\n",
      "See the caveats in the documentation: https://pandas.pydata.org/pandas-docs/stable/user_guide/indexing.html#returning-a-view-versus-a-copy\n",
      "  X['Opp_Seed'] = X['Opp_Seed'].apply(lambda x: int(x.split(\"_\")[0]))\n"
     ]
    },
    {
     "data": {
      "text/plain": [
       "[LogisticRegression(max_iter=2000), RandomForestClassifier(n_estimators=1000)]"
      ]
     },
     "execution_count": 5,
     "metadata": {},
     "output_type": "execute_result"
    }
   ],
   "source": []
  },
  {
   "cell_type": "code",
   "execution_count": 2,
   "id": "latest-cursor",
   "metadata": {},
   "outputs": [
    {
     "data": {
      "text/plain": [
       "[LogisticRegression(max_iter=2000), RandomForestClassifier(n_estimators=1000)]"
      ]
     },
     "execution_count": 2,
     "metadata": {},
     "output_type": "execute_result"
    }
   ],
   "source": [
    "createModel()"
   ]
  },
  {
   "cell_type": "code",
   "execution_count": null,
   "id": "graphic-invasion",
   "metadata": {},
   "outputs": [],
   "source": []
  }
 ],
 "metadata": {
  "kernelspec": {
   "display_name": "Python 3",
   "language": "python",
   "name": "python3"
  },
  "language_info": {
   "codemirror_mode": {
    "name": "ipython",
    "version": 3
   },
   "file_extension": ".py",
   "mimetype": "text/x-python",
   "name": "python",
   "nbconvert_exporter": "python",
   "pygments_lexer": "ipython3",
   "version": "3.8.5"
  }
 },
 "nbformat": 4,
 "nbformat_minor": 5
}
